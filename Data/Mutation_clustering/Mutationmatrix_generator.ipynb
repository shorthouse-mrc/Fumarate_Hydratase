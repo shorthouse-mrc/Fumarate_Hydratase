{
 "cells": [
  {
   "cell_type": "code",
   "execution_count": 1,
   "metadata": {},
   "outputs": [],
   "source": [
    "import re\n",
    "import pandas as pd"
   ]
  },
  {
   "cell_type": "code",
   "execution_count": 2,
   "metadata": {},
   "outputs": [],
   "source": [
    "## Generates an array for input to the NMC clustering algorithm"
   ]
  },
  {
   "cell_type": "code",
   "execution_count": 3,
   "metadata": {},
   "outputs": [],
   "source": [
    "proteinlength = 510"
   ]
  },
  {
   "cell_type": "code",
   "execution_count": 4,
   "metadata": {},
   "outputs": [],
   "source": [
    "# Dictionary for converting amino acids\n",
    "aaconv = {'CYS': 'C', 'ASP': 'D', 'SER': 'S', 'GLN': 'Q', 'LYS': 'K',\n",
    "     'ILE': 'I', 'PRO': 'P', 'THR': 'T', 'PHE': 'F', 'ASN': 'N', \n",
    "     'GLY': 'G', 'HIS': 'H', 'LEU': 'L', 'ARG': 'R', 'TRP': 'W', \n",
    "     'ALA': 'A', 'VAL':'V', 'GLU': 'E', 'TYR': 'Y', 'MET': 'M',\n",
    "     'H1S': 'H', 'H2S': 'H'}"
   ]
  },
  {
   "cell_type": "code",
   "execution_count": 5,
   "metadata": {},
   "outputs": [],
   "source": [
    "# Read in mutation database file\n",
    "mutationfile = pd.read_excel(\"../Mutations_database/FH_mutations_DB.xlsx\")"
   ]
  },
  {
   "cell_type": "code",
   "execution_count": 6,
   "metadata": {},
   "outputs": [],
   "source": [
    "# Remove known benign mutations\n",
    "mutationfile = mutationfile[mutationfile[\"Clinical Class\"] != \"benign\"]"
   ]
  },
  {
   "cell_type": "code",
   "execution_count": 7,
   "metadata": {},
   "outputs": [],
   "source": [
    "#Get only mutations in the database\n",
    "mutationlist_only = pd.DataFrame(mutationfile[\"Protein Change\"])\n",
    "# Split protein change column\n",
    "mutationlist_only['A'], mutationlist_only['Mutation'] = mutationlist_only['Protein Change'].str.split('p.', 1).str\n",
    "# Get only known mutations\n",
    "mutationlist_only = mutationlist_only[mutationlist_only[\"Mutation\"] != \"?\"]\n",
    "mutationlist_only = mutationlist_only[mutationlist_only[\"Mutation\"] != \"(=)\"]\n",
    "# Split mutation column\n",
    "mutationlist_only[\"Mutation\"] = mutationlist_only.apply(lambda x: x[\"Mutation\"][1:-1], axis =1)\n",
    "# Drop all non SNPs\n",
    "mutationlist_only = mutationlist_only[~mutationlist_only.Mutation.str.contains(\"\\*\")]\n",
    "mutationlist_only = mutationlist_only[~mutationlist_only.Mutation.str.contains(\"dup\")]\n",
    "mutationlist_only = mutationlist_only[~mutationlist_only.Mutation.str.contains(\"del\")]\n",
    "# Split into AA from, AA to, and residue mutated\n",
    "mutationlist_only[\"AAfrom\"] = mutationlist_only.apply(lambda x: x[\"Mutation\"][:3], axis =1)\n",
    "mutationlist_only[\"AAto\"] = mutationlist_only.apply(lambda x: x[\"Mutation\"][-3:], axis =1)\n",
    "mutationlist_only[\"Residue\"] = mutationlist_only.apply(lambda x: int(x[\"Mutation\"][3:-3]), axis =1)\n",
    "# Get only the mutations with have the structure for\n",
    "mutationlist_only = mutationlist_only[mutationlist_only[\"Residue\"] >= 49]\n",
    "# Convert to upper case\n",
    "mutationlist_only[\"AAfrom\"] = mutationlist_only[\"AAfrom\"].apply(lambda x: aaconv.get((x.upper())))\n",
    "mutationlist_only[\"AAto\"] = mutationlist_only[\"AAto\"].apply(lambda x: aaconv.get((x.upper())))\n",
    "# Generate mutation in more standard format\n",
    "mutationlist_only[\"Mutation\"] = mutationlist_only.apply(lambda x: \"%s%s%s\" % (x[\"AAfrom\"], (x[\"Residue\"]), x[\"AAto\"] ), axis =1)\n",
    "\n",
    "# Generate a list of all mutations\n",
    "mutationlist_original = []\n",
    "for item in mutationlist_only[\"Mutation\"]:\n",
    "    mutationlist_original.append(item)\n",
    "mutationlist = mutationlist_original"
   ]
  },
  {
   "cell_type": "code",
   "execution_count": 8,
   "metadata": {},
   "outputs": [
    {
     "data": {
      "text/html": [
       "<div>\n",
       "<style scoped>\n",
       "    .dataframe tbody tr th:only-of-type {\n",
       "        vertical-align: middle;\n",
       "    }\n",
       "\n",
       "    .dataframe tbody tr th {\n",
       "        vertical-align: top;\n",
       "    }\n",
       "\n",
       "    .dataframe thead th {\n",
       "        text-align: right;\n",
       "    }\n",
       "</style>\n",
       "<table border=\"1\" class=\"dataframe\">\n",
       "  <thead>\n",
       "    <tr style=\"text-align: right;\">\n",
       "      <th></th>\n",
       "      <th>Protein Change</th>\n",
       "      <th>A</th>\n",
       "      <th>Mutation</th>\n",
       "      <th>AAfrom</th>\n",
       "      <th>AAto</th>\n",
       "      <th>Residue</th>\n",
       "    </tr>\n",
       "  </thead>\n",
       "  <tbody>\n",
       "    <tr>\n",
       "      <td>17</td>\n",
       "      <td>p.(Arg51Gln)</td>\n",
       "      <td></td>\n",
       "      <td>R51Q</td>\n",
       "      <td>R</td>\n",
       "      <td>Q</td>\n",
       "      <td>51</td>\n",
       "    </tr>\n",
       "    <tr>\n",
       "      <td>18</td>\n",
       "      <td>p.(Glu53Lys)</td>\n",
       "      <td></td>\n",
       "      <td>E53K</td>\n",
       "      <td>E</td>\n",
       "      <td>K</td>\n",
       "      <td>53</td>\n",
       "    </tr>\n",
       "    <tr>\n",
       "      <td>22</td>\n",
       "      <td>p.(Gly69Val)</td>\n",
       "      <td></td>\n",
       "      <td>G69V</td>\n",
       "      <td>G</td>\n",
       "      <td>V</td>\n",
       "      <td>69</td>\n",
       "    </tr>\n",
       "    <tr>\n",
       "      <td>43</td>\n",
       "      <td>p.(Arg101Pro)</td>\n",
       "      <td></td>\n",
       "      <td>R101P</td>\n",
       "      <td>R</td>\n",
       "      <td>P</td>\n",
       "      <td>101</td>\n",
       "    </tr>\n",
       "    <tr>\n",
       "      <td>47</td>\n",
       "      <td>p.(Asn107Thr)</td>\n",
       "      <td></td>\n",
       "      <td>N107T</td>\n",
       "      <td>N</td>\n",
       "      <td>T</td>\n",
       "      <td>107</td>\n",
       "    </tr>\n",
       "  </tbody>\n",
       "</table>\n",
       "</div>"
      ],
      "text/plain": [
       "   Protein Change A Mutation AAfrom AAto  Residue\n",
       "17   p.(Arg51Gln)       R51Q      R    Q       51\n",
       "18   p.(Glu53Lys)       E53K      E    K       53\n",
       "22   p.(Gly69Val)       G69V      G    V       69\n",
       "43  p.(Arg101Pro)      R101P      R    P      101\n",
       "47  p.(Asn107Thr)      N107T      N    T      107"
      ]
     },
     "execution_count": 8,
     "metadata": {},
     "output_type": "execute_result"
    }
   ],
   "source": [
    "mutationlist_only.head()"
   ]
  },
  {
   "cell_type": "code",
   "execution_count": 9,
   "metadata": {},
   "outputs": [],
   "source": [
    "# Extract residues from the mutation list\n",
    "mutation_residue_list = []\n",
    "for item in mutationlist:\n",
    "        mutantnumber = int(re.findall('\\d+', item)[0])\n",
    "        mutation_residue_list.append(mutantnumber)"
   ]
  },
  {
   "cell_type": "code",
   "execution_count": 10,
   "metadata": {},
   "outputs": [],
   "source": [
    "# Construct a list of lists containing a format for NMC clustering\n",
    "# NMC needs:     12345678910\n",
    "#                0000010000\n",
    "#                0000100000\n",
    "#                0000010000\n",
    "#     One mutation   ^^  Two mutations etc...\n",
    "listsforarray = []\n",
    "listsforarray.append(list(range(49, proteinlength+1)))\n",
    "for item in mutation_residue_list:\n",
    "    zerolist = [0] * proteinlength\n",
    "    zerolist[item+1] = 1\n",
    "    listsforarray.append(zerolist)"
   ]
  },
  {
   "cell_type": "code",
   "execution_count": 11,
   "metadata": {},
   "outputs": [],
   "source": [
    "# Turn into dataframe\n",
    "mutationdataframe = pd.DataFrame(listsforarray)\n",
    "# Set row1 as the column names\n",
    "mutationdataframe.columns = mutationdataframe.iloc[0]\n",
    "# Reset the index\n",
    "mutationdataframe = mutationdataframe.reindex(mutationdataframe.index.drop(0))"
   ]
  },
  {
   "cell_type": "code",
   "execution_count": 12,
   "metadata": {},
   "outputs": [],
   "source": [
    "# Save the dataframe\n",
    "mutationdataframe.to_csv(\"FH_mutations_NMC_array.csv\", index=False)"
   ]
  }
 ],
 "metadata": {
  "kernelspec": {
   "display_name": "Python 3",
   "language": "python",
   "name": "python3"
  },
  "language_info": {
   "codemirror_mode": {
    "name": "ipython",
    "version": 3
   },
   "file_extension": ".py",
   "mimetype": "text/x-python",
   "name": "python",
   "nbconvert_exporter": "python",
   "pygments_lexer": "ipython3",
   "version": "3.6.6"
  }
 },
 "nbformat": 4,
 "nbformat_minor": 2
}
