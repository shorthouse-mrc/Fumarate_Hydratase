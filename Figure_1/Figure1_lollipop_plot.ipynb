{
 "cells": [
  {
   "cell_type": "code",
   "execution_count": 1,
   "metadata": {},
   "outputs": [],
   "source": [
    "import pandas as pd\n",
    "import re\n",
    "import seaborn as sns\n",
    "import matplotlib.pyplot as plt\n",
    "import numpy as np\n",
    "import matplotlib\n",
    "from itertools import repeat\n",
    "import matplotlib.patches as patches\n",
    "import matplotlib.lines as lines"
   ]
  },
  {
   "cell_type": "code",
   "execution_count": 2,
   "metadata": {},
   "outputs": [],
   "source": [
    "aaconv = {'CYS': 'C', 'ASP': 'D', 'SER': 'S', 'GLN': 'Q', 'LYS': 'K',\n",
    "     'ILE': 'I', 'PRO': 'P', 'THR': 'T', 'PHE': 'F', 'ASN': 'N', \n",
    "     'GLY': 'G', 'HIS': 'H', 'LEU': 'L', 'ARG': 'R', 'TRP': 'W', \n",
    "     'ALA': 'A', 'VAL':'V', 'GLU': 'E', 'TYR': 'Y', 'MET': 'M',\n",
    "     'H1S': 'H', 'H2S': 'H'}"
   ]
  },
  {
   "cell_type": "code",
   "execution_count": 3,
   "metadata": {},
   "outputs": [],
   "source": [
    "protein_length = 510\n",
    "genecolour =\"#656565\""
   ]
  },
  {
   "cell_type": "code",
   "execution_count": 4,
   "metadata": {},
   "outputs": [],
   "source": [
    "clusteringresults = pd.read_csv(\"../Data/Mutation_clustering/FH_1D_mutationclusters.csv\", sep = \" \")"
   ]
  },
  {
   "cell_type": "code",
   "execution_count": 5,
   "metadata": {},
   "outputs": [
    {
     "data": {
      "text/html": [
       "<div>\n",
       "<style scoped>\n",
       "    .dataframe tbody tr th:only-of-type {\n",
       "        vertical-align: middle;\n",
       "    }\n",
       "\n",
       "    .dataframe tbody tr th {\n",
       "        vertical-align: top;\n",
       "    }\n",
       "\n",
       "    .dataframe thead th {\n",
       "        text-align: right;\n",
       "    }\n",
       "</style>\n",
       "<table border=\"1\" class=\"dataframe\">\n",
       "  <thead>\n",
       "    <tr style=\"text-align: right;\">\n",
       "      <th></th>\n",
       "      <th>cluster_size</th>\n",
       "      <th>start</th>\n",
       "      <th>end</th>\n",
       "      <th>number</th>\n",
       "      <th>p_value</th>\n",
       "    </tr>\n",
       "  </thead>\n",
       "  <tbody>\n",
       "    <tr>\n",
       "      <td>X232</td>\n",
       "      <td>4</td>\n",
       "      <td>232</td>\n",
       "      <td>235</td>\n",
       "      <td>28</td>\n",
       "      <td>1.410696e-28</td>\n",
       "    </tr>\n",
       "    <tr>\n",
       "      <td>X231</td>\n",
       "      <td>5</td>\n",
       "      <td>231</td>\n",
       "      <td>235</td>\n",
       "      <td>30</td>\n",
       "      <td>5.052820e-28</td>\n",
       "    </tr>\n",
       "    <tr>\n",
       "      <td>X235</td>\n",
       "      <td>1</td>\n",
       "      <td>235</td>\n",
       "      <td>235</td>\n",
       "      <td>20</td>\n",
       "      <td>1.046176e-27</td>\n",
       "    </tr>\n",
       "    <tr>\n",
       "      <td>X231</td>\n",
       "      <td>7</td>\n",
       "      <td>231</td>\n",
       "      <td>237</td>\n",
       "      <td>31</td>\n",
       "      <td>2.235644e-24</td>\n",
       "    </tr>\n",
       "    <tr>\n",
       "      <td>X232</td>\n",
       "      <td>6</td>\n",
       "      <td>232</td>\n",
       "      <td>237</td>\n",
       "      <td>29</td>\n",
       "      <td>4.282449e-24</td>\n",
       "    </tr>\n",
       "  </tbody>\n",
       "</table>\n",
       "</div>"
      ],
      "text/plain": [
       "      cluster_size  start  end  number       p_value\n",
       "X232             4    232  235      28  1.410696e-28\n",
       "X231             5    231  235      30  5.052820e-28\n",
       "X235             1    235  235      20  1.046176e-27\n",
       "X231             7    231  237      31  2.235644e-24\n",
       "X232             6    232  237      29  4.282449e-24"
      ]
     },
     "execution_count": 5,
     "metadata": {},
     "output_type": "execute_result"
    }
   ],
   "source": [
    "clusteringresults.head()"
   ]
  },
  {
   "cell_type": "code",
   "execution_count": 6,
   "metadata": {},
   "outputs": [],
   "source": [
    "# Drop clusters that are too small or large\n",
    "significant_clusters = clusteringresults[(clusteringresults[\"cluster_size\"] < 50) & (clusteringresults[\"cluster_size\"] > 2)]"
   ]
  },
  {
   "cell_type": "code",
   "execution_count": 7,
   "metadata": {},
   "outputs": [],
   "source": [
    "# Keep only the first cluster (most significant) starting at each residue - otherwise top 30 are all around 232\n",
    "significant_clusters_first = significant_clusters.drop_duplicates(subset=\"start\", keep= \"first\")"
   ]
  },
  {
   "cell_type": "code",
   "execution_count": 8,
   "metadata": {},
   "outputs": [],
   "source": [
    "significant_clusters_first = significant_clusters_first.head(5)"
   ]
  },
  {
   "cell_type": "markdown",
   "metadata": {},
   "source": [
    "## Read in mutation file"
   ]
  },
  {
   "cell_type": "code",
   "execution_count": 9,
   "metadata": {},
   "outputs": [],
   "source": [
    "mutationfile = pd.read_excel(\"../Data/Mutations_database/FH_mutations_DB.xlsx\")"
   ]
  },
  {
   "cell_type": "markdown",
   "metadata": {},
   "source": [
    "## Get rid of benign mutations"
   ]
  },
  {
   "cell_type": "code",
   "execution_count": 10,
   "metadata": {},
   "outputs": [],
   "source": [
    "mutationfile_nonbenign = mutationfile[mutationfile[\"Clinical Class\"] != \"benign\"]\n",
    "mutationfile_nonbenign = mutationfile_nonbenign[mutationfile_nonbenign[\"Clinical Class\"] != \"likely benign\"]\n"
   ]
  },
  {
   "cell_type": "code",
   "execution_count": 11,
   "metadata": {},
   "outputs": [
    {
     "data": {
      "text/html": [
       "<div>\n",
       "<style scoped>\n",
       "    .dataframe tbody tr th:only-of-type {\n",
       "        vertical-align: middle;\n",
       "    }\n",
       "\n",
       "    .dataframe tbody tr th {\n",
       "        vertical-align: top;\n",
       "    }\n",
       "\n",
       "    .dataframe thead th {\n",
       "        text-align: right;\n",
       "    }\n",
       "</style>\n",
       "<table border=\"1\" class=\"dataframe\">\n",
       "  <thead>\n",
       "    <tr style=\"text-align: right;\">\n",
       "      <th></th>\n",
       "      <th>Effect</th>\n",
       "      <th>Exon</th>\n",
       "      <th>DNA Change</th>\n",
       "      <th>Clinical Class</th>\n",
       "      <th>RNA Change</th>\n",
       "      <th>Protein Change</th>\n",
       "      <th>SIFT</th>\n",
       "      <th>Predicted</th>\n",
       "      <th>DNA Change (hg19)</th>\n",
       "      <th>DNA Change (hg38)</th>\n",
       "      <th>...</th>\n",
       "      <th>Reference</th>\n",
       "      <th>ClinVar ID</th>\n",
       "      <th>dbSNP ID</th>\n",
       "      <th>Origin</th>\n",
       "      <th>Segregation</th>\n",
       "      <th>Frequency</th>\n",
       "      <th>Re-site</th>\n",
       "      <th>VIP</th>\n",
       "      <th>Methylation</th>\n",
       "      <th>Owner</th>\n",
       "    </tr>\n",
       "  </thead>\n",
       "  <tbody>\n",
       "    <tr>\n",
       "      <td>0</td>\n",
       "      <td>?/-</td>\n",
       "      <td>1</td>\n",
       "      <td>c.-11C&gt;T</td>\n",
       "      <td>-</td>\n",
       "      <td>r.(=)</td>\n",
       "      <td>p.(=)</td>\n",
       "      <td>0</td>\n",
       "      <td>-</td>\n",
       "      <td>g.241683033G&gt;A</td>\n",
       "      <td>g.241519733G&gt;A</td>\n",
       "      <td>...</td>\n",
       "      <td>PubMed: Lehtonen</td>\n",
       "      <td>-</td>\n",
       "      <td>-</td>\n",
       "      <td>Germline</td>\n",
       "      <td>-</td>\n",
       "      <td>-</td>\n",
       "      <td>-</td>\n",
       "      <td>0</td>\n",
       "      <td>-</td>\n",
       "      <td>Jean-Pierre Bayley</td>\n",
       "    </tr>\n",
       "    <tr>\n",
       "      <td>1</td>\n",
       "      <td>?/?</td>\n",
       "      <td>1</td>\n",
       "      <td>c.-11C&gt;T</td>\n",
       "      <td>-</td>\n",
       "      <td>r.(=)</td>\n",
       "      <td>p.(=)</td>\n",
       "      <td>0.01</td>\n",
       "      <td>-</td>\n",
       "      <td>g.241683033G&gt;A</td>\n",
       "      <td>g.241519733G&gt;A</td>\n",
       "      <td>...</td>\n",
       "      <td>-</td>\n",
       "      <td>-</td>\n",
       "      <td>-</td>\n",
       "      <td>Unknown</td>\n",
       "      <td>-</td>\n",
       "      <td>-</td>\n",
       "      <td>-</td>\n",
       "      <td>0</td>\n",
       "      <td>-</td>\n",
       "      <td>Audrey Remenieras</td>\n",
       "    </tr>\n",
       "    <tr>\n",
       "      <td>2</td>\n",
       "      <td>?/-?</td>\n",
       "      <td>1</td>\n",
       "      <td>c.105G&gt;A</td>\n",
       "      <td>-</td>\n",
       "      <td>r.(=)</td>\n",
       "      <td>p.(=)</td>\n",
       "      <td>-</td>\n",
       "      <td>-</td>\n",
       "      <td>g.241682918C&gt;T</td>\n",
       "      <td>g.241519618C&gt;T</td>\n",
       "      <td>...</td>\n",
       "      <td>-</td>\n",
       "      <td>-</td>\n",
       "      <td>-</td>\n",
       "      <td>Unknown</td>\n",
       "      <td>-</td>\n",
       "      <td>-</td>\n",
       "      <td>-</td>\n",
       "      <td>0</td>\n",
       "      <td>-</td>\n",
       "      <td>Audrey Remenieras</td>\n",
       "    </tr>\n",
       "    <tr>\n",
       "      <td>3</td>\n",
       "      <td>-/-?</td>\n",
       "      <td>1i</td>\n",
       "      <td>c.132+71C&gt;A</td>\n",
       "      <td>-</td>\n",
       "      <td>r.(=)</td>\n",
       "      <td>p.(=)</td>\n",
       "      <td>-</td>\n",
       "      <td>-</td>\n",
       "      <td>g.241682820G&gt;T</td>\n",
       "      <td>g.241519520G&gt;T</td>\n",
       "      <td>...</td>\n",
       "      <td>-</td>\n",
       "      <td>-</td>\n",
       "      <td>-</td>\n",
       "      <td>Unknown</td>\n",
       "      <td>-</td>\n",
       "      <td>-</td>\n",
       "      <td>-</td>\n",
       "      <td>0</td>\n",
       "      <td>-</td>\n",
       "      <td>Audrey Remenieras</td>\n",
       "    </tr>\n",
       "    <tr>\n",
       "      <td>4</td>\n",
       "      <td>-/-?</td>\n",
       "      <td>1i</td>\n",
       "      <td>c.132+71C&gt;A</td>\n",
       "      <td>-</td>\n",
       "      <td>r.(=)</td>\n",
       "      <td>p.(=)</td>\n",
       "      <td>-</td>\n",
       "      <td>-</td>\n",
       "      <td>g.241682820G&gt;T</td>\n",
       "      <td>g.241519520G&gt;T</td>\n",
       "      <td>...</td>\n",
       "      <td>-</td>\n",
       "      <td>-</td>\n",
       "      <td>-</td>\n",
       "      <td>Unknown</td>\n",
       "      <td>-</td>\n",
       "      <td>-</td>\n",
       "      <td>-</td>\n",
       "      <td>0</td>\n",
       "      <td>-</td>\n",
       "      <td>Audrey Remenieras</td>\n",
       "    </tr>\n",
       "  </tbody>\n",
       "</table>\n",
       "<p>5 rows × 24 columns</p>\n",
       "</div>"
      ],
      "text/plain": [
       "  Effect Exon   DNA Change Clinical Class RNA Change Protein Change  SIFT  \\\n",
       "0    ?/-    1     c.-11C>T              -      r.(=)          p.(=)     0   \n",
       "1    ?/?    1     c.-11C>T              -      r.(=)          p.(=)  0.01   \n",
       "2   ?/-?    1     c.105G>A              -      r.(=)          p.(=)     -   \n",
       "3   -/-?   1i  c.132+71C>A              -      r.(=)          p.(=)     -   \n",
       "4   -/-?   1i  c.132+71C>A              -      r.(=)          p.(=)     -   \n",
       "\n",
       "  Predicted DNA Change (hg19) DNA Change (hg38)  ...         Reference  \\\n",
       "0         -    g.241683033G>A    g.241519733G>A  ...  PubMed: Lehtonen   \n",
       "1         -    g.241683033G>A    g.241519733G>A  ...                 -   \n",
       "2         -    g.241682918C>T    g.241519618C>T  ...                 -   \n",
       "3         -    g.241682820G>T    g.241519520G>T  ...                 -   \n",
       "4         -    g.241682820G>T    g.241519520G>T  ...                 -   \n",
       "\n",
       "  ClinVar ID dbSNP ID    Origin Segregation Frequency Re-site VIP Methylation  \\\n",
       "0          -        -  Germline           -         -       -   0           -   \n",
       "1          -        -   Unknown           -         -       -   0           -   \n",
       "2          -        -   Unknown           -         -       -   0           -   \n",
       "3          -        -   Unknown           -         -       -   0           -   \n",
       "4          -        -   Unknown           -         -       -   0           -   \n",
       "\n",
       "                Owner  \n",
       "0  Jean-Pierre Bayley  \n",
       "1   Audrey Remenieras  \n",
       "2   Audrey Remenieras  \n",
       "3   Audrey Remenieras  \n",
       "4   Audrey Remenieras  \n",
       "\n",
       "[5 rows x 24 columns]"
      ]
     },
     "execution_count": 11,
     "metadata": {},
     "output_type": "execute_result"
    }
   ],
   "source": [
    "mutationfile_nonbenign.head()"
   ]
  },
  {
   "cell_type": "markdown",
   "metadata": {},
   "source": [
    "## Process to get mutation list"
   ]
  },
  {
   "cell_type": "code",
   "execution_count": 12,
   "metadata": {},
   "outputs": [],
   "source": [
    "mutationlist_only = pd.DataFrame(mutationfile[\"Protein Change\"])\n",
    "mutationlist_only['A'], mutationlist_only['Mutation'] = mutationlist_only['Protein Change'].str.split('p.', 1).str\n",
    "mutationlist_only = mutationlist_only[mutationlist_only[\"Mutation\"] != \"?\"]\n",
    "mutationlist_only = mutationlist_only[mutationlist_only[\"Mutation\"] != \"(=)\"]"
   ]
  },
  {
   "cell_type": "code",
   "execution_count": 13,
   "metadata": {},
   "outputs": [],
   "source": [
    "mutationlist_only[\"Mutation\"] = mutationlist_only.apply(lambda x: x[\"Mutation\"][1:-1], axis =1)\n",
    "mutationlist_only = mutationlist_only[~mutationlist_only.Mutation.str.contains(\"\\*\")]\n",
    "mutationlist_only = mutationlist_only[~mutationlist_only.Mutation.str.contains(\"dup\")]\n",
    "mutationlist_only = mutationlist_only[~mutationlist_only.Mutation.str.contains(\"del\")]\n",
    "mutationlist_only[\"AAfrom\"] = mutationlist_only.apply(lambda x: x[\"Mutation\"][:3], axis =1)\n",
    "mutationlist_only[\"AAto\"] = mutationlist_only.apply(lambda x: x[\"Mutation\"][-3:], axis =1)\n",
    "mutationlist_only[\"Residue\"] = mutationlist_only.apply(lambda x: int(x[\"Mutation\"][3:-3]), axis =1)\n",
    "mutationlist_only = mutationlist_only[mutationlist_only[\"Residue\"] >= 49]\n",
    "mutationlist_only[\"AAfrom\"] = mutationlist_only[\"AAfrom\"].apply(lambda x: aaconv.get((x.upper())))\n",
    "mutationlist_only[\"AAto\"] = mutationlist_only[\"AAto\"].apply(lambda x: aaconv.get((x.upper())))\n",
    "mutationlist_only[\"Mutation\"] = mutationlist_only.apply(lambda x: \"%s%s%s\" % (x[\"AAfrom\"], (x[\"Residue\"]), x[\"AAto\"] ), axis =1)\n",
    "mutationlist_original = []\n",
    "for item in mutationlist_only[\"Mutation\"]:\n",
    "    mutationlist_original.append(item)\n",
    "mutationlist = mutationlist_original"
   ]
  },
  {
   "cell_type": "code",
   "execution_count": 14,
   "metadata": {},
   "outputs": [],
   "source": [
    "mutationdataframe = pd.DataFrame(mutationlist, columns = [\"Mutation\"])\n",
    "count_series = mutationdataframe.groupby(['Mutation']).size()\n",
    "mutation_frequencyframe = count_series.to_frame(name = 'Counts').reset_index()\n",
    "mutation_frequencyframe = mutation_frequencyframe.sort_values(\"Counts\", ascending = False)"
   ]
  },
  {
   "cell_type": "markdown",
   "metadata": {},
   "source": [
    "## Generate mutation dataframe entry for each mutation"
   ]
  },
  {
   "cell_type": "code",
   "execution_count": 15,
   "metadata": {},
   "outputs": [],
   "source": [
    "mutation_frequencyframe[\"Residue\"] = mutation_frequencyframe[\"Mutation\"].apply(lambda x: x[1:-1])"
   ]
  },
  {
   "cell_type": "code",
   "execution_count": 16,
   "metadata": {},
   "outputs": [
    {
     "data": {
      "text/html": [
       "<div>\n",
       "<style scoped>\n",
       "    .dataframe tbody tr th:only-of-type {\n",
       "        vertical-align: middle;\n",
       "    }\n",
       "\n",
       "    .dataframe tbody tr th {\n",
       "        vertical-align: top;\n",
       "    }\n",
       "\n",
       "    .dataframe thead th {\n",
       "        text-align: right;\n",
       "    }\n",
       "</style>\n",
       "<table border=\"1\" class=\"dataframe\">\n",
       "  <thead>\n",
       "    <tr style=\"text-align: right;\">\n",
       "      <th></th>\n",
       "      <th>Mutation</th>\n",
       "      <th>Counts</th>\n",
       "      <th>Residue</th>\n",
       "    </tr>\n",
       "  </thead>\n",
       "  <tbody>\n",
       "    <tr>\n",
       "      <td>81</td>\n",
       "      <td>R233H</td>\n",
       "      <td>9</td>\n",
       "      <td>233</td>\n",
       "    </tr>\n",
       "    <tr>\n",
       "      <td>80</td>\n",
       "      <td>R233C</td>\n",
       "      <td>9</td>\n",
       "      <td>233</td>\n",
       "    </tr>\n",
       "    <tr>\n",
       "      <td>59</td>\n",
       "      <td>N107T</td>\n",
       "      <td>9</td>\n",
       "      <td>107</td>\n",
       "    </tr>\n",
       "    <tr>\n",
       "      <td>41</td>\n",
       "      <td>K230R</td>\n",
       "      <td>8</td>\n",
       "      <td>230</td>\n",
       "    </tr>\n",
       "    <tr>\n",
       "      <td>30</td>\n",
       "      <td>G397R</td>\n",
       "      <td>7</td>\n",
       "      <td>397</td>\n",
       "    </tr>\n",
       "  </tbody>\n",
       "</table>\n",
       "</div>"
      ],
      "text/plain": [
       "   Mutation  Counts Residue\n",
       "81    R233H       9     233\n",
       "80    R233C       9     233\n",
       "59    N107T       9     107\n",
       "41    K230R       8     230\n",
       "30    G397R       7     397"
      ]
     },
     "execution_count": 16,
     "metadata": {},
     "output_type": "execute_result"
    }
   ],
   "source": [
    "mutation_frequencyframe.head()"
   ]
  },
  {
   "cell_type": "code",
   "execution_count": 17,
   "metadata": {},
   "outputs": [
    {
     "data": {
      "text/html": [
       "<div>\n",
       "<style scoped>\n",
       "    .dataframe tbody tr th:only-of-type {\n",
       "        vertical-align: middle;\n",
       "    }\n",
       "\n",
       "    .dataframe tbody tr th {\n",
       "        vertical-align: top;\n",
       "    }\n",
       "\n",
       "    .dataframe thead th {\n",
       "        text-align: right;\n",
       "    }\n",
       "</style>\n",
       "<table border=\"1\" class=\"dataframe\">\n",
       "  <thead>\n",
       "    <tr style=\"text-align: right;\">\n",
       "      <th></th>\n",
       "      <th>Mutation</th>\n",
       "      <th>Counts</th>\n",
       "      <th>Residue</th>\n",
       "    </tr>\n",
       "  </thead>\n",
       "  <tbody>\n",
       "    <tr>\n",
       "      <td>81</td>\n",
       "      <td>R233H</td>\n",
       "      <td>9</td>\n",
       "      <td>233</td>\n",
       "    </tr>\n",
       "    <tr>\n",
       "      <td>80</td>\n",
       "      <td>R233C</td>\n",
       "      <td>9</td>\n",
       "      <td>233</td>\n",
       "    </tr>\n",
       "    <tr>\n",
       "      <td>82</td>\n",
       "      <td>R233L</td>\n",
       "      <td>2</td>\n",
       "      <td>233</td>\n",
       "    </tr>\n",
       "  </tbody>\n",
       "</table>\n",
       "</div>"
      ],
      "text/plain": [
       "   Mutation  Counts Residue\n",
       "81    R233H       9     233\n",
       "80    R233C       9     233\n",
       "82    R233L       2     233"
      ]
     },
     "execution_count": 17,
     "metadata": {},
     "output_type": "execute_result"
    }
   ],
   "source": [
    "mutation_frequencyframe[mutation_frequencyframe[\"Residue\"] == \"233\"]"
   ]
  },
  {
   "cell_type": "code",
   "execution_count": 18,
   "metadata": {},
   "outputs": [],
   "source": [
    "mutation_frequencyframe_only = mutation_frequencyframe[[\"Mutation\", \"Residue\"]]"
   ]
  },
  {
   "cell_type": "code",
   "execution_count": 19,
   "metadata": {},
   "outputs": [],
   "source": [
    "mutationcount_aggregate = mutation_frequencyframe.groupby([\"Residue\"]).sum()"
   ]
  },
  {
   "cell_type": "code",
   "execution_count": 20,
   "metadata": {},
   "outputs": [],
   "source": [
    "mutation_frequencyframe = mutation_frequencyframe_only.merge(mutationcount_aggregate, on = \"Residue\")"
   ]
  },
  {
   "cell_type": "markdown",
   "metadata": {},
   "source": [
    "## Merge all counts into one"
   ]
  },
  {
   "cell_type": "code",
   "execution_count": 21,
   "metadata": {},
   "outputs": [
    {
     "data": {
      "text/html": [
       "<div>\n",
       "<style scoped>\n",
       "    .dataframe tbody tr th:only-of-type {\n",
       "        vertical-align: middle;\n",
       "    }\n",
       "\n",
       "    .dataframe tbody tr th {\n",
       "        vertical-align: top;\n",
       "    }\n",
       "\n",
       "    .dataframe thead th {\n",
       "        text-align: right;\n",
       "    }\n",
       "</style>\n",
       "<table border=\"1\" class=\"dataframe\">\n",
       "  <thead>\n",
       "    <tr style=\"text-align: right;\">\n",
       "      <th></th>\n",
       "      <th>Mutation</th>\n",
       "      <th>Residue</th>\n",
       "      <th>Counts</th>\n",
       "    </tr>\n",
       "  </thead>\n",
       "  <tbody>\n",
       "    <tr>\n",
       "      <td>0</td>\n",
       "      <td>R233H</td>\n",
       "      <td>233</td>\n",
       "      <td>20</td>\n",
       "    </tr>\n",
       "    <tr>\n",
       "      <td>1</td>\n",
       "      <td>R233C</td>\n",
       "      <td>233</td>\n",
       "      <td>20</td>\n",
       "    </tr>\n",
       "    <tr>\n",
       "      <td>2</td>\n",
       "      <td>R233L</td>\n",
       "      <td>233</td>\n",
       "      <td>20</td>\n",
       "    </tr>\n",
       "    <tr>\n",
       "      <td>3</td>\n",
       "      <td>N107T</td>\n",
       "      <td>107</td>\n",
       "      <td>10</td>\n",
       "    </tr>\n",
       "    <tr>\n",
       "      <td>4</td>\n",
       "      <td>N107I</td>\n",
       "      <td>107</td>\n",
       "      <td>10</td>\n",
       "    </tr>\n",
       "  </tbody>\n",
       "</table>\n",
       "</div>"
      ],
      "text/plain": [
       "  Mutation Residue  Counts\n",
       "0    R233H     233      20\n",
       "1    R233C     233      20\n",
       "2    R233L     233      20\n",
       "3    N107T     107      10\n",
       "4    N107I     107      10"
      ]
     },
     "execution_count": 21,
     "metadata": {},
     "output_type": "execute_result"
    }
   ],
   "source": [
    "mutation_frequencyframe.head()"
   ]
  },
  {
   "cell_type": "code",
   "execution_count": 22,
   "metadata": {},
   "outputs": [],
   "source": [
    "mutation_max = max(mutation_frequencyframe[\"Counts\"])\n",
    "#Get max value for the plot"
   ]
  },
  {
   "cell_type": "markdown",
   "metadata": {},
   "source": [
    "## Combine labels"
   ]
  },
  {
   "cell_type": "code",
   "execution_count": 23,
   "metadata": {},
   "outputs": [],
   "source": [
    "mutationcountlist = []\n",
    "mutationlist = mutation_frequencyframe[\"Mutation\"].unique()\n",
    "for residue in mutation_frequencyframe[\"Residue\"]:\n",
    "    mutationframe = (mutation_frequencyframe.loc[mutation_frequencyframe[\"Residue\"] == residue])\n",
    "    mutationlist = mutationframe[\"Mutation\"].unique()\n",
    "    mutationcountlist.append((mutationlist.tolist(), int(mutation_frequencyframe.loc[mutation_frequencyframe[\"Residue\"] == residue][\"Counts\"].values[0]), residue))"
   ]
  },
  {
   "cell_type": "code",
   "execution_count": 24,
   "metadata": {},
   "outputs": [
    {
     "data": {
      "text/plain": [
       "[(['R233H', 'R233C', 'R233L'], 20, '233'),\n",
       " (['R233H', 'R233C', 'R233L'], 20, '233'),\n",
       " (['R233H', 'R233C', 'R233L'], 20, '233'),\n",
       " (['N107T', 'N107I'], 10, '107'),\n",
       " (['N107T', 'N107I'], 10, '107'),\n",
       " (['K230R'], 8, '230'),\n",
       " (['G397R'], 7, '397'),\n",
       " (['A117P'], 7, '117'),\n",
       " (['H318Y', 'H318L'], 6, '318'),\n",
       " (['H318Y', 'H318L'], 6, '318'),\n",
       " (['P174R'], 5, '174'),\n",
       " (['H196R'], 4, '196'),\n",
       " (['G282V'], 3, '282'),\n",
       " (['H180R'], 3, '180'),\n",
       " (['N188S'], 3, '188'),\n",
       " (['D216E'], 3, '216'),\n",
       " (['Y465C'], 3, '465'),\n",
       " (['C333Y'], 3, '333'),\n",
       " (['Q376P'], 3, '376'),\n",
       " (['N361K'], 2, '361'),\n",
       " (['N340K'], 2, '340'),\n",
       " (['Q386R'], 2, '386'),\n",
       " (['L453P'], 2, '453'),\n",
       " (['S171N'], 2, '171'),\n",
       " (['I229T'], 2, '229'),\n",
       " (['S334R'], 2, '334'),\n",
       " (['S365G'], 2, '365'),\n",
       " (['S366N'], 2, '366'),\n",
       " (['N373S', 'N373D'], 3, '373'),\n",
       " (['N373S', 'N373D'], 3, '373'),\n",
       " (['M195V', 'M195T'], 3, '195'),\n",
       " (['M195V', 'M195T'], 3, '195'),\n",
       " (['G275E'], 2, '275'),\n",
       " (['C434Y'], 2, '434'),\n",
       " (['D425V'], 2, '425'),\n",
       " (['D341N', 'D341G', 'D341Y'], 4, '341'),\n",
       " (['D341N', 'D341G', 'D341Y'], 4, '341'),\n",
       " (['D341N', 'D341G', 'D341Y'], 4, '341'),\n",
       " (['G346D'], 1, '346'),\n",
       " (['R160G'], 1, '160'),\n",
       " (['R350Q', 'R350W'], 2, '350'),\n",
       " (['R350Q', 'R350W'], 2, '350'),\n",
       " (['R268G'], 1, '268'),\n",
       " (['R261I'], 1, '261'),\n",
       " (['A274V', 'A274T'], 2, '274'),\n",
       " (['A274V', 'A274T'], 2, '274'),\n",
       " (['A298P'], 1, '298'),\n",
       " (['A308T'], 1, '308'),\n",
       " (['R101P'], 1, '101'),\n",
       " (['R444G'], 1, '444'),\n",
       " (['Q439P'], 1, '439'),\n",
       " (['A317V'], 1, '317'),\n",
       " (['A385D'], 1, '385'),\n",
       " (['Q254R'], 1, '254'),\n",
       " (['Q185R'], 1, '185'),\n",
       " (['Q142K'], 1, '142'),\n",
       " (['R51Q'], 1, '51'),\n",
       " (['P369S'], 1, '369'),\n",
       " (['R87H'], 1, '87'),\n",
       " (['V73M'], 1, '73'),\n",
       " (['V435M'], 1, '435'),\n",
       " (['V394L'], 1, '394'),\n",
       " (['V322D'], 1, '322'),\n",
       " (['V140G'], 1, '140'),\n",
       " (['T381I'], 1, '381'),\n",
       " (['T375I'], 1, '375'),\n",
       " (['T330P'], 1, '330'),\n",
       " (['T277I'], 1, '277'),\n",
       " (['S419P'], 1, '419'),\n",
       " (['S399N'], 1, '399'),\n",
       " (['A194T'], 1, '194'),\n",
       " (['A239T'], 1, '239'),\n",
       " (['A258E'], 1, '258'),\n",
       " (['S187L'], 1, '187'),\n",
       " (['S158I'], 1, '158'),\n",
       " (['P374S'], 1, '374'),\n",
       " (['P192L'], 1, '192'),\n",
       " (['P309S'], 1, '309'),\n",
       " (['L244P'], 1, '244'),\n",
       " (['L211P'], 1, '211'),\n",
       " (['L132S'], 1, '132'),\n",
       " (['K467R'], 1, '467'),\n",
       " (['K337T'], 1, '337'),\n",
       " (['E355K'], 1, '355'),\n",
       " (['E362Q'], 1, '362'),\n",
       " (['H402Y'], 1, '402'),\n",
       " (['E53K'], 1, '53'),\n",
       " (['H235R'], 1, '235'),\n",
       " (['F312C', 'F312S'], 2, '312'),\n",
       " (['F312C', 'F312S'], 2, '312'),\n",
       " (['H135R'], 1, '135'),\n",
       " (['G97D'], 1, '97'),\n",
       " (['G69V'], 1, '69'),\n",
       " (['L218P'], 1, '218'),\n",
       " (['L303S'], 1, '303'),\n",
       " (['G354R'], 1, '354'),\n",
       " (['L315P'], 1, '315'),\n",
       " (['C377F'], 1, '377'),\n",
       " (['D189N'], 1, '189'),\n",
       " (['N329S'], 1, '329'),\n",
       " (['N310Y'], 1, '310'),\n",
       " (['M454I'], 1, '454'),\n",
       " (['M382V'], 1, '382'),\n",
       " (['M368T'], 1, '368'),\n",
       " (['L507P'], 1, '507'),\n",
       " (['E126D'], 1, '126'),\n",
       " (['L335P'], 1, '335'),\n",
       " (['A103V'], 1, '103')]"
      ]
     },
     "execution_count": 24,
     "metadata": {},
     "output_type": "execute_result"
    }
   ],
   "source": [
    "mutationcountlist"
   ]
  },
  {
   "cell_type": "code",
   "execution_count": 25,
   "metadata": {},
   "outputs": [],
   "source": [
    "processed_dataframe = pd.DataFrame(mutationcountlist,columns=['Mutations', 'Count', \"Residue\"])"
   ]
  },
  {
   "cell_type": "code",
   "execution_count": 26,
   "metadata": {},
   "outputs": [],
   "source": [
    "processed_dataframe = processed_dataframe.drop_duplicates(subset = \"Residue\")"
   ]
  },
  {
   "cell_type": "code",
   "execution_count": 27,
   "metadata": {},
   "outputs": [],
   "source": [
    "processed_dataframe = pd.DataFrame(mutationcountlist,columns=['Mutations', 'Count', \"Residue\"])\n",
    "processed_dataframe[\"Mutations\"] = processed_dataframe[\"Mutations\"].apply(lambda x: x[0] +\"/\"+ x[1][-1] if len(x) >1 else x[0])\n",
    "processed_dataframe= processed_dataframe.drop_duplicates()"
   ]
  },
  {
   "cell_type": "code",
   "execution_count": 28,
   "metadata": {},
   "outputs": [
    {
     "data": {
      "text/html": [
       "<div>\n",
       "<style scoped>\n",
       "    .dataframe tbody tr th:only-of-type {\n",
       "        vertical-align: middle;\n",
       "    }\n",
       "\n",
       "    .dataframe tbody tr th {\n",
       "        vertical-align: top;\n",
       "    }\n",
       "\n",
       "    .dataframe thead th {\n",
       "        text-align: right;\n",
       "    }\n",
       "</style>\n",
       "<table border=\"1\" class=\"dataframe\">\n",
       "  <thead>\n",
       "    <tr style=\"text-align: right;\">\n",
       "      <th></th>\n",
       "      <th>Mutations</th>\n",
       "      <th>Count</th>\n",
       "      <th>Residue</th>\n",
       "    </tr>\n",
       "  </thead>\n",
       "  <tbody>\n",
       "    <tr>\n",
       "      <td>0</td>\n",
       "      <td>R233H/C</td>\n",
       "      <td>20</td>\n",
       "      <td>233</td>\n",
       "    </tr>\n",
       "    <tr>\n",
       "      <td>3</td>\n",
       "      <td>N107T/I</td>\n",
       "      <td>10</td>\n",
       "      <td>107</td>\n",
       "    </tr>\n",
       "    <tr>\n",
       "      <td>5</td>\n",
       "      <td>K230R</td>\n",
       "      <td>8</td>\n",
       "      <td>230</td>\n",
       "    </tr>\n",
       "    <tr>\n",
       "      <td>6</td>\n",
       "      <td>G397R</td>\n",
       "      <td>7</td>\n",
       "      <td>397</td>\n",
       "    </tr>\n",
       "    <tr>\n",
       "      <td>7</td>\n",
       "      <td>A117P</td>\n",
       "      <td>7</td>\n",
       "      <td>117</td>\n",
       "    </tr>\n",
       "    <tr>\n",
       "      <td>...</td>\n",
       "      <td>...</td>\n",
       "      <td>...</td>\n",
       "      <td>...</td>\n",
       "    </tr>\n",
       "    <tr>\n",
       "      <td>103</td>\n",
       "      <td>M368T</td>\n",
       "      <td>1</td>\n",
       "      <td>368</td>\n",
       "    </tr>\n",
       "    <tr>\n",
       "      <td>104</td>\n",
       "      <td>L507P</td>\n",
       "      <td>1</td>\n",
       "      <td>507</td>\n",
       "    </tr>\n",
       "    <tr>\n",
       "      <td>105</td>\n",
       "      <td>E126D</td>\n",
       "      <td>1</td>\n",
       "      <td>126</td>\n",
       "    </tr>\n",
       "    <tr>\n",
       "      <td>106</td>\n",
       "      <td>L335P</td>\n",
       "      <td>1</td>\n",
       "      <td>335</td>\n",
       "    </tr>\n",
       "    <tr>\n",
       "      <td>107</td>\n",
       "      <td>A103V</td>\n",
       "      <td>1</td>\n",
       "      <td>103</td>\n",
       "    </tr>\n",
       "  </tbody>\n",
       "</table>\n",
       "<p>97 rows × 3 columns</p>\n",
       "</div>"
      ],
      "text/plain": [
       "    Mutations  Count Residue\n",
       "0     R233H/C     20     233\n",
       "3     N107T/I     10     107\n",
       "5       K230R      8     230\n",
       "6       G397R      7     397\n",
       "7       A117P      7     117\n",
       "..        ...    ...     ...\n",
       "103     M368T      1     368\n",
       "104     L507P      1     507\n",
       "105     E126D      1     126\n",
       "106     L335P      1     335\n",
       "107     A103V      1     103\n",
       "\n",
       "[97 rows x 3 columns]"
      ]
     },
     "execution_count": 28,
     "metadata": {},
     "output_type": "execute_result"
    }
   ],
   "source": [
    "processed_dataframe"
   ]
  },
  {
   "cell_type": "code",
   "execution_count": 29,
   "metadata": {},
   "outputs": [],
   "source": [
    "processed_dataframe.to_csv(\"./FH_mutation_frequencyframe.csv\")"
   ]
  },
  {
   "cell_type": "code",
   "execution_count": 30,
   "metadata": {},
   "outputs": [],
   "source": [
    "# Only consider mutations with > 4 entries for labelling\n",
    "mutationfrequencyframe_sig = processed_dataframe[processed_dataframe['Count'] >= 4]"
   ]
  },
  {
   "cell_type": "code",
   "execution_count": 31,
   "metadata": {},
   "outputs": [
    {
     "data": {
      "text/html": [
       "<div>\n",
       "<style scoped>\n",
       "    .dataframe tbody tr th:only-of-type {\n",
       "        vertical-align: middle;\n",
       "    }\n",
       "\n",
       "    .dataframe tbody tr th {\n",
       "        vertical-align: top;\n",
       "    }\n",
       "\n",
       "    .dataframe thead th {\n",
       "        text-align: right;\n",
       "    }\n",
       "</style>\n",
       "<table border=\"1\" class=\"dataframe\">\n",
       "  <thead>\n",
       "    <tr style=\"text-align: right;\">\n",
       "      <th></th>\n",
       "      <th>Mutations</th>\n",
       "      <th>Count</th>\n",
       "      <th>Residue</th>\n",
       "    </tr>\n",
       "  </thead>\n",
       "  <tbody>\n",
       "    <tr>\n",
       "      <td>0</td>\n",
       "      <td>R233H/C</td>\n",
       "      <td>20</td>\n",
       "      <td>233</td>\n",
       "    </tr>\n",
       "    <tr>\n",
       "      <td>3</td>\n",
       "      <td>N107T/I</td>\n",
       "      <td>10</td>\n",
       "      <td>107</td>\n",
       "    </tr>\n",
       "    <tr>\n",
       "      <td>5</td>\n",
       "      <td>K230R</td>\n",
       "      <td>8</td>\n",
       "      <td>230</td>\n",
       "    </tr>\n",
       "    <tr>\n",
       "      <td>6</td>\n",
       "      <td>G397R</td>\n",
       "      <td>7</td>\n",
       "      <td>397</td>\n",
       "    </tr>\n",
       "    <tr>\n",
       "      <td>7</td>\n",
       "      <td>A117P</td>\n",
       "      <td>7</td>\n",
       "      <td>117</td>\n",
       "    </tr>\n",
       "    <tr>\n",
       "      <td>8</td>\n",
       "      <td>H318Y/L</td>\n",
       "      <td>6</td>\n",
       "      <td>318</td>\n",
       "    </tr>\n",
       "    <tr>\n",
       "      <td>10</td>\n",
       "      <td>P174R</td>\n",
       "      <td>5</td>\n",
       "      <td>174</td>\n",
       "    </tr>\n",
       "    <tr>\n",
       "      <td>11</td>\n",
       "      <td>H196R</td>\n",
       "      <td>4</td>\n",
       "      <td>196</td>\n",
       "    </tr>\n",
       "    <tr>\n",
       "      <td>35</td>\n",
       "      <td>D341N/G</td>\n",
       "      <td>4</td>\n",
       "      <td>341</td>\n",
       "    </tr>\n",
       "  </tbody>\n",
       "</table>\n",
       "</div>"
      ],
      "text/plain": [
       "   Mutations  Count Residue\n",
       "0    R233H/C     20     233\n",
       "3    N107T/I     10     107\n",
       "5      K230R      8     230\n",
       "6      G397R      7     397\n",
       "7      A117P      7     117\n",
       "8    H318Y/L      6     318\n",
       "10     P174R      5     174\n",
       "11     H196R      4     196\n",
       "35   D341N/G      4     341"
      ]
     },
     "execution_count": 31,
     "metadata": {},
     "output_type": "execute_result"
    }
   ],
   "source": [
    "mutationfrequencyframe_sig"
   ]
  },
  {
   "cell_type": "code",
   "execution_count": 32,
   "metadata": {},
   "outputs": [
    {
     "name": "stdout",
     "output_type": "stream",
     "text": [
      "[233, 233, 233, 233, 233, 233, 233, 233, 233, 233, 233, 233, 233, 233, 233, 233, 233, 233, 233, 233, 107, 107, 107, 107, 107, 107, 107, 107, 107, 107, 230, 230, 230, 230, 230, 230, 230, 230, 397, 397, 397, 397, 397, 397, 397, 117, 117, 117, 117, 117, 117, 117, 318, 318, 318, 318, 318, 318, 174, 174, 174, 174, 174, 196, 196, 196, 196, 282, 282, 282, 180, 180, 180, 188, 188, 188, 216, 216, 216, 465, 465, 465, 333, 333, 333, 376, 376, 376, 361, 361, 340, 340, 386, 386, 453, 453, 171, 171, 229, 229, 334, 334, 365, 365, 366, 366, 373, 373, 373, 195, 195, 195, 275, 275, 434, 434, 425, 425, 341, 341, 341, 341, 346, 160, 350, 350, 268, 261, 274, 274, 298, 308, 101, 444, 439, 317, 385, 254, 185, 142, 51, 369, 87, 73, 435, 394, 322, 140, 381, 375, 330, 277, 419, 399, 194, 239, 258, 187, 158, 374, 192, 309, 244, 211, 132, 467, 337, 355, 362, 402, 53, 235, 312, 312, 135, 97, 69, 218, 303, 354, 315, 377, 189, 329, 310, 454, 382, 368, 507, 126, 335, 103]\n"
     ]
    }
   ],
   "source": [
    "# Generate a mutationlist for the countplot\n",
    "mutationlist = []\n",
    "for index, columns in processed_dataframe.iterrows():\n",
    "    mutationlist.extend(repeat(int(columns[\"Residue\"]), int(columns[\"Count\"])))\n",
    "    \n",
    "print(mutationlist)"
   ]
  },
  {
   "cell_type": "code",
   "execution_count": 33,
   "metadata": {},
   "outputs": [],
   "source": [
    "# Convert mutationlist into the format necessary for countplots\n",
    "x = range(1,protein_length)\n",
    "mutantcount = []\n",
    "mutantcount_nozeroes = []\n",
    "for i in x:\n",
    "    if mutationlist.count(i) != 0:\n",
    "        mutantcount.append(mutationlist.count(i))\n",
    "        mutantcount_nozeroes.append(mutationlist.count(i))\n",
    "    elif mutationlist.count(i) == 0:\n",
    "        mutantcount.append(-1)"
   ]
  },
  {
   "cell_type": "markdown",
   "metadata": {},
   "source": [
    "## Define some functions for adding rectangles and clustering lines to the plot"
   ]
  },
  {
   "cell_type": "code",
   "execution_count": 34,
   "metadata": {},
   "outputs": [],
   "source": [
    "def plotrec(x1, x2, y, name, color):\n",
    "    width = abs(x2-x1)\n",
    "    height = 1.25\n",
    "    axes.add_patch(patches.Rectangle([x1, y], width, height, lw = 2, facecolor = color, edgecolor = \"k\", zorder = 100, clip_on=False))\n",
    "    axes.text(x1+(width/2),-2.5, name, size = 14, clip_on=False, zorder= 101, horizontalalignment = \"center\", verticalalignment = \"center\")"
   ]
  },
  {
   "cell_type": "code",
   "execution_count": 35,
   "metadata": {},
   "outputs": [],
   "source": [
    "def plotline(x1, x2, y, color):\n",
    "    line = lines.Line2D([x1, x2], [y, y], lw = 3, color = color, axes = axes, clip_on=False, marker = \"|\", mew = 3)\n",
    "    axes.add_line(line)"
   ]
  },
  {
   "cell_type": "markdown",
   "metadata": {},
   "source": [
    "## Define a dictionary of the subunits of the protein for plotting"
   ]
  },
  {
   "cell_type": "code",
   "execution_count": 36,
   "metadata": {},
   "outputs": [],
   "source": [
    "FH_subunits = {\"D1 Subunit\": [50, 188, \"#43A9DB\"], \"D2 Subunit\": [188, 440, \"#FB4459\"], \"D3 Subunit\": [440, 509, \"#fffc79\"]}"
   ]
  },
  {
   "cell_type": "code",
   "execution_count": 37,
   "metadata": {},
   "outputs": [],
   "source": [
    "matplotlib.rcParams['figure.figsize'] = [20, 5]"
   ]
  },
  {
   "cell_type": "code",
   "execution_count": 38,
   "metadata": {},
   "outputs": [
    {
     "name": "stderr",
     "output_type": "stream",
     "text": [
      "/home/ds728/anaconda3/lib/python3.6/site-packages/ipykernel_launcher.py:4: UserWarning: In Matplotlib 3.3 individual lines on a stem plot will be added as a LineCollection instead of individual lines. This significantly improves the performance of a stem plot. To remove this warning and switch to the new behaviour, set the \"use_line_collection\" keyword argument to True.\n",
      "  after removing the cwd from sys.path.\n"
     ]
    },
    {
     "data": {
      "image/png": "[encoded data removed]",
      "text/plain": [
       "<Figure size 1440x360 with 1 Axes>"
      ]
     },
     "metadata": {
      "needs_background": "light"
     },
     "output_type": "display_data"
    }
   ],
   "source": [
    "# Generate plot\n",
    "fig = plt.figure()\n",
    "axes = fig.add_subplot(111)\n",
    "(markers, stemlines, baseline) = plt.stem(x, mutantcount)\n",
    "\n",
    "sns.despine(offset = {\"left\":10, \"bottom\":50})\n",
    "plt.setp(markers, markersize=10, markeredgecolor=\"k\", markeredgewidth=2, c = genecolour, zorder = 10)\n",
    "plt.setp(stemlines, color=genecolour, linewidth=2 , zorder = 5)\n",
    "axes.set_ylim([0,mutation_max+1])\n",
    "axes.set_xlim([0,protein_length])\n",
    "axes.set_xticks([0,100,200,300,400,500,protein_length])\n",
    "axes.set_yticks([0,5,10,15,20])\n",
    "\n",
    "plt.xticks(size =10)\n",
    "plt.yticks(size = 12)\n",
    "\n",
    "# Add rectangles\n",
    "for key, residues in FH_subunits.items():\n",
    "        plotrec(residues[0],residues[1], -1, key, residues[2])\n",
    "## Add labels - customize those labels that are overlapping\n",
    "for index, row in mutationfrequencyframe_sig.iterrows():\n",
    "    if row[\"Mutations\"] == \"R233H/C\":\n",
    "        axes.text(int(row[\"Residue\"])-4, int(row[\"Count\"])+0.5,\"R233H/C/L\", verticalalignment = \"bottom\", size = 14, zorder = 300, rotation = 45)\n",
    "    elif row[\"Mutations\"] == \"K230R\":\n",
    "        axes.text(int(row[\"Residue\"])-15, int(row[\"Count\"])-0.5,\"K230R\", verticalalignment = \"bottom\", size = 14, zorder = 300, rotation = 45)\n",
    "    elif row[\"Mutations\"] == \"D341N/G\":\n",
    "        axes.text(int(row[\"Residue\"])-4, int(row[\"Count\"])+0.5,\"D341N/G/Y\", verticalalignment = \"bottom\", size = 14, zorder = 300, rotation = 45)\n",
    "    elif row[\"Mutations\"] == \"H180R\":\n",
    "        axes.text(int(row[\"Residue\"])-2, int(row[\"Count\"])+0.2,row[\"Mutations\"], verticalalignment = \"bottom\", size = 14, zorder = 300, rotation = 45)\n",
    "    else:\n",
    "        axes.text(int(row[\"Residue\"])-4, int(row[\"Count\"])+0.5,row[\"Mutations\"], verticalalignment = \"bottom\", size = 14, zorder = 300, rotation = 45)\n",
    "\n",
    "plt.ylabel(\"Number of Mutations\", size = 12)\n",
    "plt.xlabel(\"Residue\", size = 12)\n",
    "\n",
    "## Add NMC clusters\n",
    "for index,columns in significant_clusters_first.iterrows():\n",
    "    plt.axvspan(columns[\"start\"]-2, columns[\"end\"]-2, color='#D687FC', alpha=0.2)\n",
    "\n",
    "dist = [-1.5,-2,-2.5,-3, -3.5, -4, -5, -6, -7, -8]\n",
    "count = 0\n",
    "for index2, row2 in significant_clusters_first.iterrows():\n",
    "        plotline(int(row2[\"start\"]), int(row2[\"end\"]), dist[count], '#D687FC')\n",
    "        count +=1\n",
    "\n",
    "# Add binding site annotations\n",
    "for residue in [176, 182, 186, 187, 188, 234, 235, 371, 372, 373]:\n",
    "    axes.text(residue,23, \"*\", size = 20, clip_on=False, zorder= 101, horizontalalignment = \"center\", verticalalignment = \"center\")\n",
    "\n",
    "plt.savefig(\"Figure1_D_lollipop_plot.pdf\", bbox_inches=\"tight\")"
   ]
  },
  {
   "cell_type": "code",
   "execution_count": null,
   "metadata": {},
   "outputs": [],
   "source": []
  }
 ],
 "metadata": {
  "kernelspec": {
   "display_name": "Python 3",
   "language": "python",
   "name": "python3"
  },
  "language_info": {
   "codemirror_mode": {
    "name": "ipython",
    "version": 3
   },
   "file_extension": ".py",
   "mimetype": "text/x-python",
   "name": "python",
   "nbconvert_exporter": "python",
   "pygments_lexer": "ipython3",
   "version": "3.6.6"
  }
 },
 "nbformat": 4,
 "nbformat_minor": 2
}
