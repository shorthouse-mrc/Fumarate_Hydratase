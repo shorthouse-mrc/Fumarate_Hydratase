{
 "cells": [
  {
   "cell_type": "code",
   "execution_count": 1,
   "metadata": {
    "ExecuteTime": {
     "end_time": "2019-11-04T15:46:05.335952Z",
     "start_time": "2019-11-04T15:46:03.460638Z"
    }
   },
   "outputs": [],
   "source": [
    "import matplotlib.pyplot as plt\n",
    "import matplotlib\n",
    "import glob\n",
    "import os\n",
    "import pandas as pd\n",
    "import seaborn as sns\n",
    "import re\n",
    "from scipy import stats\n",
    "import numpy as np"
   ]
  },
  {
   "cell_type": "code",
   "execution_count": 2,
   "metadata": {
    "ExecuteTime": {
     "end_time": "2019-11-04T15:46:05.349157Z",
     "start_time": "2019-11-04T15:46:05.342028Z"
    }
   },
   "outputs": [],
   "source": [
    "matplotlib.rcParams['figure.figsize'] = [14, 8]"
   ]
  },
  {
   "cell_type": "code",
   "execution_count": 3,
   "metadata": {
    "ExecuteTime": {
     "end_time": "2019-11-04T15:46:05.421374Z",
     "start_time": "2019-11-04T15:46:05.354542Z"
    }
   },
   "outputs": [],
   "source": [
    "# Load data frame containing all the mutation information\n",
    "complete_data = pd.read_csv(\"../Data/Structure_data/FH_complete_mutation_summary.csv\")"
   ]
  },
  {
   "cell_type": "code",
   "execution_count": 4,
   "metadata": {
    "ExecuteTime": {
     "end_time": "2019-11-04T15:46:05.448124Z",
     "start_time": "2019-11-04T15:46:05.427379Z"
    }
   },
   "outputs": [],
   "source": [
    "# Load data frame containing FH mutation database\n",
    "database_mutations = pd.read_csv(\"../Data/Mutations_database/FH_mutations_missense_categories.csv\")"
   ]
  },
  {
   "cell_type": "code",
   "execution_count": 5,
   "metadata": {
    "ExecuteTime": {
     "end_time": "2019-11-04T15:46:05.478467Z",
     "start_time": "2019-11-04T15:46:05.456096Z"
    }
   },
   "outputs": [],
   "source": [
    "# Order frame by average mutational energy\n",
    "average_sorted = complete_data.sort_values(by = \"average_energy\")\n",
    "average_sorted = average_sorted.reset_index()\n",
    "average_sorted[\"order\"] = average_sorted.index"
   ]
  },
  {
   "cell_type": "code",
   "execution_count": 6,
   "metadata": {
    "ExecuteTime": {
     "end_time": "2019-11-04T15:46:05.512637Z",
     "start_time": "2019-11-04T15:46:05.484969Z"
    }
   },
   "outputs": [],
   "source": [
    "# merge frames to have mutations from the database included\n",
    "average_merge = average_sorted.merge(database_mutations, left_on = \"Mutation\", right_on = \"Mutation\")"
   ]
  },
  {
   "cell_type": "code",
   "execution_count": 7,
   "metadata": {
    "ExecuteTime": {
     "end_time": "2019-11-04T15:46:05.720138Z",
     "start_time": "2019-11-04T15:46:05.641732Z"
    }
   },
   "outputs": [
    {
     "data": {
      "text/html": [
       "<div>\n",
       "<style scoped>\n",
       "    .dataframe tbody tr th:only-of-type {\n",
       "        vertical-align: middle;\n",
       "    }\n",
       "\n",
       "    .dataframe tbody tr th {\n",
       "        vertical-align: top;\n",
       "    }\n",
       "\n",
       "    .dataframe thead th {\n",
       "        text-align: right;\n",
       "    }\n",
       "</style>\n",
       "<table border=\"1\" class=\"dataframe\">\n",
       "  <thead>\n",
       "    <tr style=\"text-align: right;\">\n",
       "      <th></th>\n",
       "      <th>index</th>\n",
       "      <th>Unnamed: 0_x</th>\n",
       "      <th>Residue</th>\n",
       "      <th>AAfrom</th>\n",
       "      <th>AAto</th>\n",
       "      <th>rhapsodyscore</th>\n",
       "      <th>rhapsodyclass</th>\n",
       "      <th>polyphenscore</th>\n",
       "      <th>polyphenclass</th>\n",
       "      <th>Foldx_energy</th>\n",
       "      <th>...</th>\n",
       "      <th>ClinVar ID</th>\n",
       "      <th>dbSNP ID</th>\n",
       "      <th>Origin</th>\n",
       "      <th>Segregation</th>\n",
       "      <th>Frequency</th>\n",
       "      <th>Re-site</th>\n",
       "      <th>VIP</th>\n",
       "      <th>Methylation</th>\n",
       "      <th>Owner</th>\n",
       "      <th>Category</th>\n",
       "    </tr>\n",
       "  </thead>\n",
       "  <tbody>\n",
       "    <tr>\n",
       "      <td>0</td>\n",
       "      <td>4291</td>\n",
       "      <td>4291</td>\n",
       "      <td>274</td>\n",
       "      <td>A</td>\n",
       "      <td>V</td>\n",
       "      <td>0.553</td>\n",
       "      <td>neutral</td>\n",
       "      <td>0.515</td>\n",
       "      <td>deleterious</td>\n",
       "      <td>-0.532338</td>\n",
       "      <td>...</td>\n",
       "      <td>-</td>\n",
       "      <td>-</td>\n",
       "      <td>Germline</td>\n",
       "      <td>-</td>\n",
       "      <td>-</td>\n",
       "      <td>-</td>\n",
       "      <td>0</td>\n",
       "      <td>-</td>\n",
       "      <td>Jean-Pierre Bayley</td>\n",
       "      <td>PRED_LOF</td>\n",
       "    </tr>\n",
       "    <tr>\n",
       "      <td>1</td>\n",
       "      <td>6725</td>\n",
       "      <td>6725</td>\n",
       "      <td>402</td>\n",
       "      <td>H</td>\n",
       "      <td>Y</td>\n",
       "      <td>0.453</td>\n",
       "      <td>neutral</td>\n",
       "      <td>0.999</td>\n",
       "      <td>deleterious</td>\n",
       "      <td>-0.725123</td>\n",
       "      <td>...</td>\n",
       "      <td>-</td>\n",
       "      <td>-</td>\n",
       "      <td>Germline</td>\n",
       "      <td>-</td>\n",
       "      <td>-</td>\n",
       "      <td>-</td>\n",
       "      <td>0</td>\n",
       "      <td>-</td>\n",
       "      <td>Jean-Pierre Bayley</td>\n",
       "      <td>Unknown</td>\n",
       "    </tr>\n",
       "    <tr>\n",
       "      <td>2</td>\n",
       "      <td>5119</td>\n",
       "      <td>5119</td>\n",
       "      <td>318</td>\n",
       "      <td>H</td>\n",
       "      <td>L</td>\n",
       "      <td>0.939</td>\n",
       "      <td>deleterious</td>\n",
       "      <td>0.989</td>\n",
       "      <td>deleterious</td>\n",
       "      <td>1.330000</td>\n",
       "      <td>...</td>\n",
       "      <td>-</td>\n",
       "      <td>-</td>\n",
       "      <td>Germline</td>\n",
       "      <td>-</td>\n",
       "      <td>-</td>\n",
       "      <td>-</td>\n",
       "      <td>0</td>\n",
       "      <td>-</td>\n",
       "      <td>Jean-Pierre Bayley</td>\n",
       "      <td>Unknown</td>\n",
       "    </tr>\n",
       "    <tr>\n",
       "      <td>3</td>\n",
       "      <td>1042</td>\n",
       "      <td>1042</td>\n",
       "      <td>103</td>\n",
       "      <td>A</td>\n",
       "      <td>V</td>\n",
       "      <td>0.904</td>\n",
       "      <td>deleterious</td>\n",
       "      <td>0.999</td>\n",
       "      <td>deleterious</td>\n",
       "      <td>0.062707</td>\n",
       "      <td>...</td>\n",
       "      <td>-</td>\n",
       "      <td>-</td>\n",
       "      <td>CLASSIFICATION record</td>\n",
       "      <td>-</td>\n",
       "      <td>-</td>\n",
       "      <td>-</td>\n",
       "      <td>-</td>\n",
       "      <td>-</td>\n",
       "      <td>VKGL-NL</td>\n",
       "      <td>Unknown</td>\n",
       "    </tr>\n",
       "    <tr>\n",
       "      <td>4</td>\n",
       "      <td>4954</td>\n",
       "      <td>4954</td>\n",
       "      <td>309</td>\n",
       "      <td>P</td>\n",
       "      <td>S</td>\n",
       "      <td>0.818</td>\n",
       "      <td>deleterious</td>\n",
       "      <td>0.972</td>\n",
       "      <td>deleterious</td>\n",
       "      <td>1.299420</td>\n",
       "      <td>...</td>\n",
       "      <td>-</td>\n",
       "      <td>-</td>\n",
       "      <td>CLASSIFICATION record</td>\n",
       "      <td>-</td>\n",
       "      <td>-</td>\n",
       "      <td>-</td>\n",
       "      <td>0</td>\n",
       "      <td>-</td>\n",
       "      <td>VKGL-NL</td>\n",
       "      <td>Benign</td>\n",
       "    </tr>\n",
       "  </tbody>\n",
       "</table>\n",
       "<p>5 rows × 43 columns</p>\n",
       "</div>"
      ],
      "text/plain": [
       "   index  Unnamed: 0_x  Residue AAfrom AAto  rhapsodyscore rhapsodyclass  \\\n",
       "0   4291          4291      274      A    V          0.553       neutral   \n",
       "1   6725          6725      402      H    Y          0.453       neutral   \n",
       "2   5119          5119      318      H    L          0.939   deleterious   \n",
       "3   1042          1042      103      A    V          0.904   deleterious   \n",
       "4   4954          4954      309      P    S          0.818   deleterious   \n",
       "\n",
       "   polyphenscore polyphenclass  Foldx_energy  ...  ClinVar ID dbSNP ID  \\\n",
       "0          0.515   deleterious     -0.532338  ...           -        -   \n",
       "1          0.999   deleterious     -0.725123  ...           -        -   \n",
       "2          0.989   deleterious      1.330000  ...           -        -   \n",
       "3          0.999   deleterious      0.062707  ...           -        -   \n",
       "4          0.972   deleterious      1.299420  ...           -        -   \n",
       "\n",
       "                  Origin  Segregation  Frequency  Re-site  VIP  Methylation  \\\n",
       "0               Germline            -          -        -    0            -   \n",
       "1               Germline            -          -        -    0            -   \n",
       "2               Germline            -          -        -    0            -   \n",
       "3  CLASSIFICATION record            -          -        -    -            -   \n",
       "4  CLASSIFICATION record            -          -        -    0            -   \n",
       "\n",
       "                Owner  Category  \n",
       "0  Jean-Pierre Bayley  PRED_LOF  \n",
       "1  Jean-Pierre Bayley   Unknown  \n",
       "2  Jean-Pierre Bayley   Unknown  \n",
       "3             VKGL-NL   Unknown  \n",
       "4             VKGL-NL    Benign  \n",
       "\n",
       "[5 rows x 43 columns]"
      ]
     },
     "execution_count": 7,
     "metadata": {},
     "output_type": "execute_result"
    }
   ],
   "source": [
    "average_merge.head()"
   ]
  },
  {
   "cell_type": "code",
   "execution_count": 8,
   "metadata": {
    "ExecuteTime": {
     "end_time": "2019-11-04T15:46:06.182358Z",
     "start_time": "2019-11-04T15:46:06.166326Z"
    }
   },
   "outputs": [],
   "source": [
    "# Get the known benign and LOF mutations from the database\n",
    "average_merge_benign = average_merge[average_merge[\"Category\"] == \"Benign\"]\n",
    "average_merge_LOF = average_merge[average_merge[\"Category\"] == \"LOF\"]"
   ]
  },
  {
   "cell_type": "code",
   "execution_count": 9,
   "metadata": {
    "ExecuteTime": {
     "end_time": "2019-11-04T15:46:06.539837Z",
     "start_time": "2019-11-04T15:46:06.523059Z"
    }
   },
   "outputs": [],
   "source": [
    "# Exclude the binding site and hinge mutations\n",
    "average_merge_LOF = average_merge_LOF[average_merge_LOF[\"Mindist_bindingsiteA\"] >= 6]\n",
    "average_merge_LOF = average_merge_LOF[average_merge_LOF[\"Mindist_hinge\"] >= 6]"
   ]
  },
  {
   "cell_type": "code",
   "execution_count": 10,
   "metadata": {
    "ExecuteTime": {
     "end_time": "2019-11-04T15:46:09.465317Z",
     "start_time": "2019-11-04T15:46:07.338798Z"
    }
   },
   "outputs": [
    {
     "data": {
      "image/png": "[encoded data removed]",
      "text/plain": [
       "<Figure size 1008x576 with 2 Axes>"
      ]
     },
     "metadata": {
      "needs_background": "light"
     },
     "output_type": "display_data"
    }
   ],
   "source": [
    "# Plot the average mutations in rank order, then overlay the known benign and LoF mutations in their appropriate rank\n",
    "f, (ax_top, ax_bottom) = plt.subplots(2, sharex=True, gridspec_kw={\"height_ratios\": (.8,.2)})\n",
    "f.subplots_adjust(hspace = 0)\n",
    "\n",
    "sns.scatterplot(average_sorted.index, average_sorted[\"average_energy\"], ax = ax_top, linewidth = 0, color = \"#C0C0C0\")\n",
    "sns.scatterplot(average_merge_benign[\"order\"], average_merge_benign[\"average_energy\"],ax = ax_top, color = \"#FFA945\", s = 80, zorder = 2, edgecolor = \"k\")\n",
    "sns.scatterplot(average_merge_LOF[\"order\"], average_merge_LOF[\"average_energy\"], ax =ax_top, color = \"#FB4459\", s = 80, zorder = 2, edgecolor = \"k\")\n",
    "ax_top.axhline(2.5, c = \"k\", lw = 3, zorder = 1)\n",
    "ax_top.set_ylabel(\"Average $\\Delta \\Delta$G (Kcal/mol)\", size = 18)\n",
    "plt.xlabel(\"Mutational Order\", size = 18)\n",
    "\n",
    "ax_bottom.set_yticks([])\n",
    "\n",
    "# Add lines to the bottom axis - makes it easier to see the spread of mutations\n",
    "for row,values in average_merge_benign.iterrows():\n",
    "    ranking =(values[\"order\"])\n",
    "    ax_bottom.axvline(ranking, c =\"#FFA945\", lw = 3)\n",
    "    \n",
    "for row,values in average_merge_LOF.iterrows():\n",
    "    ranking =(values[\"order\"])\n",
    "    ax_bottom.axvline(ranking, c =\"#FB4459\", lw = 3)\n",
    "plt.savefig(\"Figure_4_B_averageenergyranking.png\", dpi = 400)"
   ]
  }
 ],
 "metadata": {
  "kernelspec": {
   "display_name": "Python 3",
   "language": "python",
   "name": "python3"
  },
  "language_info": {
   "codemirror_mode": {
    "name": "ipython",
    "version": 3
   },
   "file_extension": ".py",
   "mimetype": "text/x-python",
   "name": "python",
   "nbconvert_exporter": "python",
   "pygments_lexer": "ipython3",
   "version": "3.6.6"
  }
 },
 "nbformat": 4,
 "nbformat_minor": 2
}
